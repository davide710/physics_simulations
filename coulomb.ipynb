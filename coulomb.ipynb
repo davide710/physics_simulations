{
 "cells": [
  {
   "cell_type": "code",
   "execution_count": 1,
   "metadata": {},
   "outputs": [],
   "source": [
    "import numpy as np\n",
    "import matplotlib.pyplot as plt\n",
    "from matplotlib.animation import FuncAnimation"
   ]
  },
  {
   "cell_type": "code",
   "execution_count": 2,
   "metadata": {},
   "outputs": [],
   "source": [
    "def integral(f, dx):\n",
    "    return np.sum(f*dx, axis=0)\n",
    "\n",
    "def gaussian_packet(sigma=5, x0=90, k0=-1):\n",
    "    psi_0 = np.exp(-(x[1:-1] - x0)**2 / (2 * sigma**2)) * np.exp(1j * k0 * x[1:-1])\n",
    "    norm  = integral(np.abs(psi_0)**2, dx)\n",
    "    return psi_0 / np.sqrt(norm)\n",
    "\n",
    "def hamiltonian(V0=40):\n",
    "    T = -1 / (2 * dx**2) * (np.diag(-2*np.ones(N-1)) + np.diag(np.ones(N-2),1) + np.diag(np.ones(N-2),-1))\n",
    "    V_flat = np.array([0 if pos < a else V0/pos for pos in x[1:-1]])\n",
    "    V = np.diag(V_flat)\n",
    "    H = T + V\n",
    "    return H, V_flat\n",
    "\n",
    "def get_eigenstates(H):\n",
    "    En, eigenstates = np.linalg.eigh(H)\n",
    "    eigenstates = eigenstates.T\n",
    "    norm = integral(np.abs(eigenstates)**2, dx)\n",
    "    eigenstates_list = eigenstates / np.sqrt(norm)\n",
    "    eigenstates_matrix = eigenstates_list.T\n",
    "    return En, eigenstates_list, eigenstates_matrix\n",
    "\n",
    "def get_coeffs_in_basis(psi, basis_list):\n",
    "    coeffs = np.zeros_like(basis_list[0], dtype=complex)\n",
    "    for j in range(0, len(basis_list)):\n",
    "        coeffs[j] = integral(np.conj(basis_list[j]) * psi, dx)\n",
    "    return coeffs"
   ]
  },
  {
   "cell_type": "code",
   "execution_count": 3,
   "metadata": {},
   "outputs": [],
   "source": [
    "N = 2500\n",
    "L = 250\n",
    "x = np.linspace(-20, L, N+1)\n",
    "dx = x[1] - x[0]\n",
    "a = 40\n",
    "V0 = 40"
   ]
  },
  {
   "cell_type": "code",
   "execution_count": 4,
   "metadata": {},
   "outputs": [],
   "source": [
    "H, V_flat = hamiltonian(V0=V0)\n",
    "\n",
    "psi_0 = gaussian_packet(sigma=5, x0=90, k0=-1)\n",
    "\n",
    "En, eigenstates_list, eigenstates_matrix = get_eigenstates(H)\n",
    "\n",
    "coeff_0 = get_coeffs_in_basis(psi_0, eigenstates_list)\n",
    "\n",
    "E = np.sum(En * np.abs(coeff_0)**2)\n",
    "r2 = V0 / E\n",
    "theoretical_tunnelling_prob = np.exp(-2 * integral(np.sqrt(V0 / x[(x > a) & (x < r2)] - E), dx))\n",
    "\n",
    "timespan = np.linspace(0, 100, 100)\n",
    "dt = timespan[1] - timespan[0]"
   ]
  },
  {
   "cell_type": "code",
   "execution_count": 5,
   "metadata": {},
   "outputs": [
    {
     "data": {
      "image/png": "[encoded data removed]",
      "text/plain": [
       "<Figure size 640x480 with 1 Axes>"
      ]
     },
     "metadata": {},
     "output_type": "display_data"
    }
   ],
   "source": [
    "fig, ax = plt.subplots()\n",
    "line, = ax.plot([], [], label=\"|psi|^2\")\n",
    "potential_line, = ax.plot(x[1:-1], V_flat, label=\"Potential\")\n",
    "energy_text = ax.text(a, 0, '', ha='left', va='bottom')\n",
    "tunnel_text = ax.text(a, V0 / a * 0.9, '', ha='left', va='bottom')\n",
    "\n",
    "ax.set_xlim(x.min(), x.max())\n",
    "ax.set_ylim(0, max(np.max(V_flat),1.1*np.max(np.abs(eigenstates_matrix)**2)))\n",
    "ax.legend()\n",
    "\n",
    "def animate(i):\n",
    "    t = timespan[i]\n",
    "    c_n = coeff_0 * np.exp(-1j * En * t)\n",
    "    psi = eigenstates_matrix @ (c_n)\n",
    "    tunnelled_fraction = integral(np.abs(psi[x[1:-1] < a])**2, dx)\n",
    "    psi_mod_sq = np.abs(psi)**2\n",
    "\n",
    "    line.set_data(x[1:-1], psi_mod_sq)\n",
    "    energy_text.set_text(f'Energy = {E:.2f}')\n",
    "    tunnel_text.set_text(f'Tunnelled fraction: {tunnelled_fraction:.2f}')\n",
    "    return line, energy_text, tunnel_text"
   ]
  },
  {
   "cell_type": "code",
   "execution_count": 6,
   "metadata": {},
   "outputs": [
    {
     "data": {
      "text/html": [
       "<video src=\"animation.mp4\" controls  >\n",
       "      Your browser does not support the <code>video</code> element.\n",
       "    </video>"
      ],
      "text/plain": [
       "<IPython.core.display.Video object>"
      ]
     },
     "execution_count": 6,
     "metadata": {},
     "output_type": "execute_result"
    }
   ],
   "source": [
    "ani = FuncAnimation(fig, animate, frames=len(timespan), blit=True, interval=10, repeat=False)\n",
    "\n",
    "ani.save('animation.mp4', writer='ffmpeg', fps=60)\n",
    "\n",
    "plt.close(fig)\n",
    "\n",
    "from IPython.display import Video\n",
    "Video(\"animation.mp4\")"
   ]
  },
  {
   "cell_type": "markdown",
   "metadata": {},
   "source": [
    "<video controls=\"true\" width=\"600\">\n",
    "  <source src=\"animation.mp4\" type=\"video/mp4\">\n",
    "  Your browser does not support the video tag.\n",
    "</video>"
   ]
  }
 ],
 "metadata": {
  "kernelspec": {
   "display_name": "Python 3",
   "language": "python",
   "name": "python3"
  },
  "language_info": {
   "codemirror_mode": {
    "name": "ipython",
    "version": 3
   },
   "file_extension": ".py",
   "mimetype": "text/x-python",
   "name": "python",
   "nbconvert_exporter": "python",
   "pygments_lexer": "ipython3",
   "version": "3.8.10"
  }
 },
 "nbformat": 4,
 "nbformat_minor": 2
}
